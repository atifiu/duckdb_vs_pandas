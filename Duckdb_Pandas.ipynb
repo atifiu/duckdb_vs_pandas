{
 "cells": [
  {
   "cell_type": "code",
   "execution_count": 31,
   "id": "92e4b761",
   "metadata": {},
   "outputs": [
    {
     "name": "stdout",
     "output_type": "stream",
     "text": [
      "Collecting yapf\n",
      "  Using cached yapf-0.32.0-py2.py3-none-any.whl (190 kB)\n",
      "Installing collected packages: yapf\n",
      "Successfully installed yapf-0.32.0\n"
     ]
    },
    {
     "name": "stderr",
     "output_type": "stream",
     "text": [
      "WARNING: Ignoring invalid distribution -atplotlib (e:\\python\\datavisualizations\\dashboard\\lib\\site-packages)\n",
      "WARNING: Ignoring invalid distribution -atplotlib (e:\\python\\datavisualizations\\dashboard\\lib\\site-packages)\n",
      "WARNING: Ignoring invalid distribution -atplotlib (e:\\python\\datavisualizations\\dashboard\\lib\\site-packages)\n",
      "WARNING: Ignoring invalid distribution -atplotlib (e:\\python\\datavisualizations\\dashboard\\lib\\site-packages)\n",
      "WARNING: Ignoring invalid distribution -atplotlib (e:\\python\\datavisualizations\\dashboard\\lib\\site-packages)\n",
      "WARNING: Ignoring invalid distribution -atplotlib (e:\\python\\datavisualizations\\dashboard\\lib\\site-packages)\n",
      "WARNING: Ignoring invalid distribution -atplotlib (e:\\python\\datavisualizations\\dashboard\\lib\\site-packages)\n"
     ]
    }
   ],
   "source": [
    "!pip install yapf"
   ]
  },
  {
   "cell_type": "code",
   "execution_count": 3,
   "id": "a505ae4e",
   "metadata": {},
   "outputs": [
    {
     "data": {
      "text/html": [
       "<div>\n",
       "<style scoped>\n",
       "    .dataframe tbody tr th:only-of-type {\n",
       "        vertical-align: middle;\n",
       "    }\n",
       "\n",
       "    .dataframe tbody tr th {\n",
       "        vertical-align: top;\n",
       "    }\n",
       "\n",
       "    .dataframe thead th {\n",
       "        text-align: right;\n",
       "    }\n",
       "</style>\n",
       "<table border=\"1\" class=\"dataframe\">\n",
       "  <thead>\n",
       "    <tr style=\"text-align: right;\">\n",
       "      <th></th>\n",
       "      <th>Activity Period</th>\n",
       "      <th>Operating Airline</th>\n",
       "      <th>Operating Airline IATA Code</th>\n",
       "      <th>Published Airline</th>\n",
       "      <th>Published Airline IATA Code</th>\n",
       "      <th>GEO Summary</th>\n",
       "      <th>GEO Region</th>\n",
       "      <th>Activity Type Code</th>\n",
       "      <th>Price Category Code</th>\n",
       "      <th>Terminal</th>\n",
       "      <th>Boarding Area</th>\n",
       "      <th>Passenger Count</th>\n",
       "      <th>Year_Month</th>\n",
       "      <th>Year</th>\n",
       "    </tr>\n",
       "  </thead>\n",
       "  <tbody>\n",
       "    <tr>\n",
       "      <th>50726</th>\n",
       "      <td>202212</td>\n",
       "      <td>Virgin Atlantic</td>\n",
       "      <td>VS</td>\n",
       "      <td>Virgin Atlantic</td>\n",
       "      <td>VS</td>\n",
       "      <td>International</td>\n",
       "      <td>Europe</td>\n",
       "      <td>Deplaned</td>\n",
       "      <td>Other</td>\n",
       "      <td>International</td>\n",
       "      <td>A</td>\n",
       "      <td>5836</td>\n",
       "      <td>December-2022</td>\n",
       "      <td>2022</td>\n",
       "    </tr>\n",
       "    <tr>\n",
       "      <th>50727</th>\n",
       "      <td>202212</td>\n",
       "      <td>Virgin Atlantic</td>\n",
       "      <td>VS</td>\n",
       "      <td>Virgin Atlantic</td>\n",
       "      <td>VS</td>\n",
       "      <td>International</td>\n",
       "      <td>Europe</td>\n",
       "      <td>Enplaned</td>\n",
       "      <td>Other</td>\n",
       "      <td>International</td>\n",
       "      <td>A</td>\n",
       "      <td>6650</td>\n",
       "      <td>December-2022</td>\n",
       "      <td>2022</td>\n",
       "    </tr>\n",
       "    <tr>\n",
       "      <th>50728</th>\n",
       "      <td>202212</td>\n",
       "      <td>WestJet Airlines</td>\n",
       "      <td>WS</td>\n",
       "      <td>WestJet Airlines</td>\n",
       "      <td>WS</td>\n",
       "      <td>International</td>\n",
       "      <td>Canada</td>\n",
       "      <td>Deplaned</td>\n",
       "      <td>Other</td>\n",
       "      <td>International</td>\n",
       "      <td>A</td>\n",
       "      <td>1679</td>\n",
       "      <td>December-2022</td>\n",
       "      <td>2022</td>\n",
       "    </tr>\n",
       "    <tr>\n",
       "      <th>50729</th>\n",
       "      <td>202212</td>\n",
       "      <td>WestJet Airlines</td>\n",
       "      <td>WS</td>\n",
       "      <td>WestJet Airlines</td>\n",
       "      <td>WS</td>\n",
       "      <td>International</td>\n",
       "      <td>Canada</td>\n",
       "      <td>Enplaned</td>\n",
       "      <td>Other</td>\n",
       "      <td>International</td>\n",
       "      <td>A</td>\n",
       "      <td>1857</td>\n",
       "      <td>December-2022</td>\n",
       "      <td>2022</td>\n",
       "    </tr>\n",
       "  </tbody>\n",
       "</table>\n",
       "</div>"
      ],
      "text/plain": [
       "       Activity Period Operating Airline Operating Airline IATA Code  \\\n",
       "50726           202212   Virgin Atlantic                          VS   \n",
       "50727           202212   Virgin Atlantic                          VS   \n",
       "50728           202212  WestJet Airlines                          WS   \n",
       "50729           202212  WestJet Airlines                          WS   \n",
       "\n",
       "      Published Airline Published Airline IATA Code    GEO Summary GEO Region  \\\n",
       "50726   Virgin Atlantic                          VS  International     Europe   \n",
       "50727   Virgin Atlantic                          VS  International     Europe   \n",
       "50728  WestJet Airlines                          WS  International     Canada   \n",
       "50729  WestJet Airlines                          WS  International     Canada   \n",
       "\n",
       "      Activity Type Code Price Category Code       Terminal Boarding Area  \\\n",
       "50726           Deplaned               Other  International             A   \n",
       "50727           Enplaned               Other  International             A   \n",
       "50728           Deplaned               Other  International             A   \n",
       "50729           Enplaned               Other  International             A   \n",
       "\n",
       "       Passenger Count     Year_Month  Year  \n",
       "50726             5836  December-2022  2022  \n",
       "50727             6650  December-2022  2022  \n",
       "50728             1679  December-2022  2022  \n",
       "50729             1857  December-2022  2022  "
      ]
     },
     "execution_count": 3,
     "metadata": {},
     "output_type": "execute_result"
    }
   ],
   "source": [
    "import pandas as pd\n",
    "import pygwalker as pyg\n",
    "import duckdb\n",
    "\n",
    "\n",
    "# Add Titanic data set to a data frame with a Count value added to it\n",
    "df = pd.read_csv(\n",
    "    r\"./data/Air_Traffic_Passenger_Statistics.csv\"\n",
    "    # \"https://data.sfgov.org/resource/rkru-6vcg.csv\"\n",
    ")\n",
    "# convert activity period to year-month format as column Year_Month\n",
    "df = df.assign(\n",
    "    Year_Month=pd.to_datetime(df[\"Activity Period\"], format=\"%Y%m\").apply(\n",
    "        lambda x: x.strftime(\"%B-%Y\")\n",
    "    ),\n",
    "    Year=pd.to_datetime(df[\"Activity Period\"], format=\"%Y%m\").dt.strftime(\"%Y\"),\n",
    ")\n",
    "\n",
    "df[\"Operating Airline\"] = df[\"Operating Airline\"].str.replace(\n",
    "    \"United Airlines - Pre 07/01/2013\", \"United Airlines\"\n",
    ")\n",
    "\n",
    "\n",
    "df.tail(4)"
   ]
  },
  {
   "cell_type": "code",
   "execution_count": 4,
   "id": "bac5dab7",
   "metadata": {},
   "outputs": [],
   "source": [
    " df_summary_duckdb = duckdb.query('SELECT SUM(\"Passenger Count\"), \\\n",
    "                                  \"Year\", \"Operating Airline\" \\\n",
    "                                  FROM df \\\n",
    "                                  group by \"Year\", \"Operating Airline\" \\\n",
    "                                  ').to_df()\n"
   ]
  },
  {
   "cell_type": "code",
   "execution_count": 6,
   "id": "0e05f4f6",
   "metadata": {},
   "outputs": [
    {
     "ename": "SyntaxError",
     "evalue": "invalid syntax (2574091799.py, line 1)",
     "output_type": "error",
     "traceback": [
      "\u001b[1;36m  Input \u001b[1;32mIn [6]\u001b[1;36m\u001b[0m\n\u001b[1;33m    select * from duckdb_extensions();\u001b[0m\n\u001b[1;37m             ^\u001b[0m\n\u001b[1;31mSyntaxError\u001b[0m\u001b[1;31m:\u001b[0m invalid syntax\n"
     ]
    }
   ],
   "source": [
    "select * from duckdb_extensions();"
   ]
  },
  {
   "cell_type": "code",
   "execution_count": 5,
   "id": "01f23a4a",
   "metadata": {},
   "outputs": [
    {
     "data": {
      "text/html": [
       "<div>\n",
       "<style scoped>\n",
       "    .dataframe tbody tr th:only-of-type {\n",
       "        vertical-align: middle;\n",
       "    }\n",
       "\n",
       "    .dataframe tbody tr th {\n",
       "        vertical-align: top;\n",
       "    }\n",
       "\n",
       "    .dataframe thead th {\n",
       "        text-align: right;\n",
       "    }\n",
       "</style>\n",
       "<table border=\"1\" class=\"dataframe\">\n",
       "  <thead>\n",
       "    <tr style=\"text-align: right;\">\n",
       "      <th></th>\n",
       "      <th>sum(\"Passenger Count\")</th>\n",
       "      <th>Year</th>\n",
       "      <th>Operating Airline</th>\n",
       "    </tr>\n",
       "  </thead>\n",
       "  <tbody>\n",
       "    <tr>\n",
       "      <th>863</th>\n",
       "      <td>258170.0</td>\n",
       "      <td>2020</td>\n",
       "      <td>EVA Airways</td>\n",
       "    </tr>\n",
       "    <tr>\n",
       "      <th>864</th>\n",
       "      <td>348518.0</td>\n",
       "      <td>2009</td>\n",
       "      <td>Hawaiian Airlines</td>\n",
       "    </tr>\n",
       "    <tr>\n",
       "      <th>865</th>\n",
       "      <td>886710.0</td>\n",
       "      <td>2018</td>\n",
       "      <td>British Airways</td>\n",
       "    </tr>\n",
       "    <tr>\n",
       "      <th>866</th>\n",
       "      <td>635392.0</td>\n",
       "      <td>2019</td>\n",
       "      <td>Emirates</td>\n",
       "    </tr>\n",
       "    <tr>\n",
       "      <th>867</th>\n",
       "      <td>221014.0</td>\n",
       "      <td>2010</td>\n",
       "      <td>Asiana Airlines</td>\n",
       "    </tr>\n",
       "  </tbody>\n",
       "</table>\n",
       "</div>"
      ],
      "text/plain": [
       "     sum(\"Passenger Count\")  Year  Operating Airline\n",
       "863                258170.0  2020        EVA Airways\n",
       "864                348518.0  2009  Hawaiian Airlines\n",
       "865                886710.0  2018    British Airways\n",
       "866                635392.0  2019           Emirates\n",
       "867                221014.0  2010    Asiana Airlines"
      ]
     },
     "execution_count": 5,
     "metadata": {},
     "output_type": "execute_result"
    }
   ],
   "source": [
    "df_summary_duckdb.tail()"
   ]
  },
  {
   "cell_type": "code",
   "execution_count": 14,
   "id": "799724f0",
   "metadata": {},
   "outputs": [],
   "source": [
    "df_summary = (\n",
    "    df[[\"Passenger Count\", \"Operating Airline\", \"Year\"]]\n",
    "    .groupby([\"Year\", \"Operating Airline\"])\n",
    "    .agg(Passenger_Count=(\"Passenger Count\", \"sum\"))\n",
    "    .reset_index()\n",
    "    .sort_values([\"Year\", \"Passenger_Count\"], ascending=[True, False])\n",
    "    .groupby([\"Year\"], as_index=False, sort=False)\n",
    "    .nth[:10]\n",
    ")"
   ]
  },
  {
   "cell_type": "code",
   "execution_count": 15,
   "id": "ff883dc4",
   "metadata": {},
   "outputs": [
    {
     "data": {
      "text/html": [
       "<div>\n",
       "<style scoped>\n",
       "    .dataframe tbody tr th:only-of-type {\n",
       "        vertical-align: middle;\n",
       "    }\n",
       "\n",
       "    .dataframe tbody tr th {\n",
       "        vertical-align: top;\n",
       "    }\n",
       "\n",
       "    .dataframe thead th {\n",
       "        text-align: right;\n",
       "    }\n",
       "</style>\n",
       "<table border=\"1\" class=\"dataframe\">\n",
       "  <thead>\n",
       "    <tr style=\"text-align: right;\">\n",
       "      <th></th>\n",
       "      <th>Year</th>\n",
       "      <th>Operating Airline</th>\n",
       "      <th>Passenger_Count</th>\n",
       "    </tr>\n",
       "  </thead>\n",
       "  <tbody>\n",
       "    <tr>\n",
       "      <th>40</th>\n",
       "      <td>2005</td>\n",
       "      <td>United Airlines</td>\n",
       "      <td>15338298</td>\n",
       "    </tr>\n",
       "    <tr>\n",
       "      <th>9</th>\n",
       "      <td>2005</td>\n",
       "      <td>American Airlines</td>\n",
       "      <td>3438824</td>\n",
       "    </tr>\n",
       "    <tr>\n",
       "      <th>36</th>\n",
       "      <td>2005</td>\n",
       "      <td>SkyWest Airlines</td>\n",
       "      <td>2568754</td>\n",
       "    </tr>\n",
       "    <tr>\n",
       "      <th>18</th>\n",
       "      <td>2005</td>\n",
       "      <td>Delta Air Lines</td>\n",
       "      <td>2072072</td>\n",
       "    </tr>\n",
       "    <tr>\n",
       "      <th>39</th>\n",
       "      <td>2005</td>\n",
       "      <td>US Airways</td>\n",
       "      <td>1731352</td>\n",
       "    </tr>\n",
       "  </tbody>\n",
       "</table>\n",
       "</div>"
      ],
      "text/plain": [
       "    Year  Operating Airline  Passenger_Count\n",
       "40  2005    United Airlines         15338298\n",
       "9   2005  American Airlines          3438824\n",
       "36  2005   SkyWest Airlines          2568754\n",
       "18  2005    Delta Air Lines          2072072\n",
       "39  2005         US Airways          1731352"
      ]
     },
     "execution_count": 15,
     "metadata": {},
     "output_type": "execute_result"
    }
   ],
   "source": [
    "df_summary.head()"
   ]
  }
 ],
 "metadata": {
  "kernelspec": {
   "display_name": "Python 3 (ipykernel)",
   "language": "python",
   "name": "python3"
  },
  "language_info": {
   "codemirror_mode": {
    "name": "ipython",
    "version": 3
   },
   "file_extension": ".py",
   "mimetype": "text/x-python",
   "name": "python",
   "nbconvert_exporter": "python",
   "pygments_lexer": "ipython3",
   "version": "3.10.6"
  },
  "vscode": {
   "interpreter": {
    "hash": "3cee5e6af52b614a2e05ee197feec5e074306649e114bab392c7e028463de2a0"
   }
  }
 },
 "nbformat": 4,
 "nbformat_minor": 5
}
